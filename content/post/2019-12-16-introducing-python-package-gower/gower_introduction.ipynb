{
 "cells": [
  {
   "cell_type": "markdown",
   "metadata": {},
   "source": [
    "# Introducing gower Package"
   ]
  },
  {
   "cell_type": "markdown",
   "metadata": {},
   "source": [
    "Today I am so pleased to introduce my first PyPI package (so much easier to submit comparing to CRAN) --- gower for calculating gower distance. I borrowed ideas from https://github.com/scikit-learn/scikit-learn/issues/5884 nad hopefully it can be added to `sklearn` soon. There are lots of packages in R that incorporated this method but unfortunately not for Python users. I took this chance to try the whole package-making experience for PyPI and here we go!\n"
   ]
  },
  {
   "cell_type": "markdown",
   "metadata": {},
   "source": [
    "## What is gower distance?"
   ]
  },
  {
   "cell_type": "markdown",
   "metadata": {},
   "source": [
    "Like normal Euclidean distance or cosine distance, Gower distance is a distance measure. However, it can be used to calculate distance between two entity whose attribute has a mixed of categorical and numerical values. Why this is important? Many common clustering algorithms, e.g. K-means clustering - only works when all variables are numeric. [Gower (1971) A general coefficient of similarity and some of its properties. Biometrics 27 857–874.](https://www.jstor.org/stable/2528823?seq=1) \n",
    "\n",
    "I won't talk about the math behind it here but if you are interested there are tons of good material out there besides of Gower's original paper.:\n",
    "* https://rstudio-pubs-static.s3.amazonaws.com/423873_adfdb38bce8d47579f6dc916dd67ae75.html#fnref2\n",
    "* https://towardsdatascience.com/clustering-on-mixed-type-data-8bbd0a2569c3\n",
    "* https://www.math.vu.nl/~sbhulai/papers/thesis-vandenhoven.pdf"
   ]
  },
  {
   "cell_type": "markdown",
   "metadata": {},
   "source": [
    "## Installation"
   ]
  },
  {
   "cell_type": "markdown",
   "metadata": {},
   "source": [
    "`pip install gower`"
   ]
  },
  {
   "cell_type": "markdown",
   "metadata": {},
   "source": [
    "## Calculate Gower Distance"
   ]
  },
  {
   "cell_type": "code",
   "execution_count": 10,
   "metadata": {},
   "outputs": [],
   "source": [
    "import numpy as np\n",
    "import pandas as pd\n",
    "\n",
    "Xd=pd.DataFrame({'age':[21,21,19, 30,21,21,19,30],\n",
    "'gender':['M','M','M','M','F','F','F','F'],\n",
    "'civil_status':['MARRIED','SINGLE','SINGLE','SINGLE','MARRIED','SINGLE','WIDOW','DIVORCED'],\n",
    "'salary':[3000.0,1200.0 ,32000.0,1800.0 ,2900.0 ,1100.0 ,10000.0,1500.0],\n",
    "'has_children':[1,0,1,1,1,0,0,1],\n",
    "'available_credit':[2200,100,22000,1100,2000,100,6000,2200]})\n",
    "Yd = Xd.iloc[0:1,:]"
   ]
  },
  {
   "cell_type": "markdown",
   "metadata": {},
   "source": [
    "First create some fake data calld `Xd` and `Yd` as pandas dataframe:"
   ]
  },
  {
   "cell_type": "code",
   "execution_count": 11,
   "metadata": {},
   "outputs": [
    {
     "data": {
      "text/html": [
       "<div>\n",
       "<style scoped>\n",
       "    .dataframe tbody tr th:only-of-type {\n",
       "        vertical-align: middle;\n",
       "    }\n",
       "\n",
       "    .dataframe tbody tr th {\n",
       "        vertical-align: top;\n",
       "    }\n",
       "\n",
       "    .dataframe thead th {\n",
       "        text-align: right;\n",
       "    }\n",
       "</style>\n",
       "<table border=\"1\" class=\"dataframe\">\n",
       "  <thead>\n",
       "    <tr style=\"text-align: right;\">\n",
       "      <th></th>\n",
       "      <th>age</th>\n",
       "      <th>gender</th>\n",
       "      <th>civil_status</th>\n",
       "      <th>salary</th>\n",
       "      <th>has_children</th>\n",
       "      <th>available_credit</th>\n",
       "    </tr>\n",
       "  </thead>\n",
       "  <tbody>\n",
       "    <tr>\n",
       "      <th>0</th>\n",
       "      <td>21</td>\n",
       "      <td>M</td>\n",
       "      <td>MARRIED</td>\n",
       "      <td>3000.0</td>\n",
       "      <td>1</td>\n",
       "      <td>2200</td>\n",
       "    </tr>\n",
       "    <tr>\n",
       "      <th>1</th>\n",
       "      <td>21</td>\n",
       "      <td>M</td>\n",
       "      <td>SINGLE</td>\n",
       "      <td>1200.0</td>\n",
       "      <td>0</td>\n",
       "      <td>100</td>\n",
       "    </tr>\n",
       "    <tr>\n",
       "      <th>2</th>\n",
       "      <td>19</td>\n",
       "      <td>M</td>\n",
       "      <td>SINGLE</td>\n",
       "      <td>32000.0</td>\n",
       "      <td>1</td>\n",
       "      <td>22000</td>\n",
       "    </tr>\n",
       "    <tr>\n",
       "      <th>3</th>\n",
       "      <td>30</td>\n",
       "      <td>M</td>\n",
       "      <td>SINGLE</td>\n",
       "      <td>1800.0</td>\n",
       "      <td>1</td>\n",
       "      <td>1100</td>\n",
       "    </tr>\n",
       "    <tr>\n",
       "      <th>4</th>\n",
       "      <td>21</td>\n",
       "      <td>F</td>\n",
       "      <td>MARRIED</td>\n",
       "      <td>2900.0</td>\n",
       "      <td>1</td>\n",
       "      <td>2000</td>\n",
       "    </tr>\n",
       "    <tr>\n",
       "      <th>5</th>\n",
       "      <td>21</td>\n",
       "      <td>F</td>\n",
       "      <td>SINGLE</td>\n",
       "      <td>1100.0</td>\n",
       "      <td>0</td>\n",
       "      <td>100</td>\n",
       "    </tr>\n",
       "    <tr>\n",
       "      <th>6</th>\n",
       "      <td>19</td>\n",
       "      <td>F</td>\n",
       "      <td>WIDOW</td>\n",
       "      <td>10000.0</td>\n",
       "      <td>0</td>\n",
       "      <td>6000</td>\n",
       "    </tr>\n",
       "    <tr>\n",
       "      <th>7</th>\n",
       "      <td>30</td>\n",
       "      <td>F</td>\n",
       "      <td>DIVORCED</td>\n",
       "      <td>1500.0</td>\n",
       "      <td>1</td>\n",
       "      <td>2200</td>\n",
       "    </tr>\n",
       "  </tbody>\n",
       "</table>\n",
       "</div>"
      ],
      "text/plain": [
       "   age gender civil_status   salary  has_children  available_credit\n",
       "0   21      M      MARRIED   3000.0             1              2200\n",
       "1   21      M       SINGLE   1200.0             0               100\n",
       "2   19      M       SINGLE  32000.0             1             22000\n",
       "3   30      M       SINGLE   1800.0             1              1100\n",
       "4   21      F      MARRIED   2900.0             1              2000\n",
       "5   21      F       SINGLE   1100.0             0               100\n",
       "6   19      F        WIDOW  10000.0             0              6000\n",
       "7   30      F     DIVORCED   1500.0             1              2200"
      ]
     },
     "execution_count": 11,
     "metadata": {},
     "output_type": "execute_result"
    }
   ],
   "source": [
    "Xd"
   ]
  },
  {
   "cell_type": "code",
   "execution_count": 12,
   "metadata": {},
   "outputs": [
    {
     "data": {
      "text/html": [
       "<div>\n",
       "<style scoped>\n",
       "    .dataframe tbody tr th:only-of-type {\n",
       "        vertical-align: middle;\n",
       "    }\n",
       "\n",
       "    .dataframe tbody tr th {\n",
       "        vertical-align: top;\n",
       "    }\n",
       "\n",
       "    .dataframe thead th {\n",
       "        text-align: right;\n",
       "    }\n",
       "</style>\n",
       "<table border=\"1\" class=\"dataframe\">\n",
       "  <thead>\n",
       "    <tr style=\"text-align: right;\">\n",
       "      <th></th>\n",
       "      <th>age</th>\n",
       "      <th>gender</th>\n",
       "      <th>civil_status</th>\n",
       "      <th>salary</th>\n",
       "      <th>has_children</th>\n",
       "      <th>available_credit</th>\n",
       "    </tr>\n",
       "  </thead>\n",
       "  <tbody>\n",
       "    <tr>\n",
       "      <th>0</th>\n",
       "      <td>21</td>\n",
       "      <td>M</td>\n",
       "      <td>MARRIED</td>\n",
       "      <td>3000.0</td>\n",
       "      <td>1</td>\n",
       "      <td>2200</td>\n",
       "    </tr>\n",
       "  </tbody>\n",
       "</table>\n",
       "</div>"
      ],
      "text/plain": [
       "   age gender civil_status  salary  has_children  available_credit\n",
       "0   21      M      MARRIED  3000.0             1              2200"
      ]
     },
     "execution_count": 12,
     "metadata": {},
     "output_type": "execute_result"
    }
   ],
   "source": [
    "Yd"
   ]
  },
  {
   "cell_type": "markdown",
   "metadata": {},
   "source": [
    "### Compuate distance matrix"
   ]
  },
  {
   "cell_type": "markdown",
   "metadata": {},
   "source": [
    "Main function for the package is `gower.gower_matrix()`. This function has 4 arguments:\n",
    "\n",
    "* `data_x` : input data\n",
    "* `data_y` : default `None`\n",
    "* `weight` : weight of each variable, default to be a vector of 1\n",
    "* `cat_features` : a boolean vector indicates categorical features, default `None` and function will determin by itself\n",
    "\n",
    "Let's run it on our dataframe `Xd`"
   ]
  },
  {
   "cell_type": "code",
   "execution_count": 5,
   "metadata": {},
   "outputs": [
    {
     "data": {
      "text/plain": [
       "array([[0.        , 0.3590238 , 0.5040732 , 0.31787416, 0.16872811,\n",
       "        0.52622986, 0.59697855, 0.47778758],\n",
       "       [0.3590238 , 0.        , 0.52976364, 0.3138769 , 0.523629  ,\n",
       "        0.16720603, 0.45600235, 0.6539635 ],\n",
       "       [0.5040732 , 0.52976364, 0.        , 0.48861402, 0.6728013 ,\n",
       "        0.6969697 , 0.740428  , 0.8151941 ],\n",
       "       [0.31787416, 0.3138769 , 0.48861402, 0.        , 0.4824794 ,\n",
       "        0.48108295, 0.74818605, 0.34332284],\n",
       "       [0.16872811, 0.523629  , 0.6728013 , 0.4824794 , 0.        ,\n",
       "        0.35750175, 0.43237334, 0.3121036 ],\n",
       "       [0.52622986, 0.16720603, 0.6969697 , 0.48108295, 0.35750175,\n",
       "        0.        , 0.2898751 , 0.4878362 ],\n",
       "       [0.59697855, 0.45600235, 0.740428  , 0.74818605, 0.43237334,\n",
       "        0.2898751 , 0.        , 0.57476616],\n",
       "       [0.47778758, 0.6539635 , 0.8151941 , 0.34332284, 0.3121036 ,\n",
       "        0.4878362 , 0.57476616, 0.        ]], dtype=float32)"
      ]
     },
     "execution_count": 5,
     "metadata": {},
     "output_type": "execute_result"
    }
   ],
   "source": [
    "import gower\n",
    "\n",
    "gower.gower_matrix(Xd)"
   ]
  },
  {
   "cell_type": "markdown",
   "metadata": {},
   "source": [
    "Let's try to treat them all as categorical features:"
   ]
  },
  {
   "cell_type": "code",
   "execution_count": 15,
   "metadata": {},
   "outputs": [
    {
     "data": {
      "text/plain": [
       "array([[0.        , 0.6666667 , 0.6666667 , 0.6666667 , 0.5       ,\n",
       "        0.8333333 , 1.        , 0.6666667 ],\n",
       "       [0.6666667 , 0.        , 0.6666667 , 0.6666667 , 0.8333333 ,\n",
       "        0.33333334, 0.8333333 , 1.        ],\n",
       "       [0.6666667 , 0.6666667 , 0.        , 0.5       , 0.8333333 ,\n",
       "        0.8333333 , 0.8333333 , 0.8333333 ],\n",
       "       [0.6666667 , 0.6666667 , 0.5       , 0.        , 0.8333333 ,\n",
       "        0.8333333 , 1.        , 0.6666667 ],\n",
       "       [0.5       , 0.8333333 , 0.8333333 , 0.8333333 , 0.        ,\n",
       "        0.6666667 , 0.8333333 , 0.6666667 ],\n",
       "       [0.8333333 , 0.33333334, 0.8333333 , 0.8333333 , 0.6666667 ,\n",
       "        0.        , 0.6666667 , 0.8333333 ],\n",
       "       [1.        , 0.8333333 , 0.8333333 , 1.        , 0.8333333 ,\n",
       "        0.6666667 , 0.        , 0.8333333 ],\n",
       "       [0.6666667 , 1.        , 0.8333333 , 0.6666667 , 0.6666667 ,\n",
       "        0.8333333 , 0.8333333 , 0.        ]], dtype=float32)"
      ]
     },
     "execution_count": 15,
     "metadata": {},
     "output_type": "execute_result"
    }
   ],
   "source": [
    "gower.gower_matrix(Xd, cat_features = [True, True,True,True,True,True])"
   ]
  },
  {
   "cell_type": "markdown",
   "metadata": {},
   "source": [
    "It also supports array inputs:"
   ]
  },
  {
   "cell_type": "code",
   "execution_count": 14,
   "metadata": {},
   "outputs": [
    {
     "data": {
      "text/plain": [
       "array([[0.        , 0.3590238 , 0.5040732 , 0.31787416, 0.16872811,\n",
       "        0.52622986, 0.59697855, 0.47778758],\n",
       "       [0.3590238 , 0.        , 0.52976364, 0.3138769 , 0.523629  ,\n",
       "        0.16720603, 0.45600235, 0.6539635 ],\n",
       "       [0.5040732 , 0.52976364, 0.        , 0.48861402, 0.6728013 ,\n",
       "        0.6969697 , 0.740428  , 0.8151941 ],\n",
       "       [0.31787416, 0.3138769 , 0.48861402, 0.        , 0.4824794 ,\n",
       "        0.48108295, 0.74818605, 0.34332284],\n",
       "       [0.16872811, 0.523629  , 0.6728013 , 0.4824794 , 0.        ,\n",
       "        0.35750175, 0.43237334, 0.3121036 ],\n",
       "       [0.52622986, 0.16720603, 0.6969697 , 0.48108295, 0.35750175,\n",
       "        0.        , 0.2898751 , 0.4878362 ],\n",
       "       [0.59697855, 0.45600235, 0.740428  , 0.74818605, 0.43237334,\n",
       "        0.2898751 , 0.        , 0.57476616],\n",
       "       [0.47778758, 0.6539635 , 0.8151941 , 0.34332284, 0.3121036 ,\n",
       "        0.4878362 , 0.57476616, 0.        ]], dtype=float32)"
      ]
     },
     "execution_count": 14,
     "metadata": {},
     "output_type": "execute_result"
    }
   ],
   "source": [
    "X = np.asarray(Xd)\n",
    "gower.gower_matrix(X)"
   ]
  },
  {
   "cell_type": "markdown",
   "metadata": {},
   "source": [
    "### Find top n similar items"
   ]
  },
  {
   "cell_type": "markdown",
   "metadata": {},
   "source": [
    "One intuition for me to create this package is to use it at work. I usually need to find look-alike customer for my company. E.g. one customer with certain KPI and properties --- location, tenure, RFM metrics etc and they are often mixed type. Gower distance can easily be calculated the distance between them and allows me to give certain variables higher/lower weight."
   ]
  },
  {
   "cell_type": "code",
   "execution_count": 9,
   "metadata": {},
   "outputs": [
    {
     "data": {
      "text/plain": [
       "{'index': array([0, 4, 3, 1, 7]),\n",
       " 'values': array([0.        , 0.16872811, 0.31787416, 0.3590238 , 0.47778758],\n",
       "       dtype=float32)}"
      ]
     },
     "execution_count": 9,
     "metadata": {},
     "output_type": "execute_result"
    }
   ],
   "source": [
    "gower.gower_topn(Xd.iloc[0:1,:], Xd, n = 5)"
   ]
  },
  {
   "cell_type": "markdown",
   "metadata": {},
   "source": [
    "The function will return two arrays. The index of the top 5 closest records and their distance in decimals"
   ]
  },
  {
   "cell_type": "markdown",
   "metadata": {},
   "source": [
    "## Application in Hierarchical Clustering"
   ]
  },
  {
   "cell_type": "markdown",
   "metadata": {},
   "source": [
    "The most popular usecases for mathematical distances are clustering. `cluster` module in `scipy` provided the ability to use custom distance matrix to do hierarchical clustering. Let's run a simple clustering model on our toy data. First we need to create the linkage using our precomputed distance matrix:"
   ]
  },
  {
   "cell_type": "code",
   "execution_count": 21,
   "metadata": {},
   "outputs": [
    {
     "name": "stderr",
     "output_type": "stream",
     "text": [
      "/opt/conda/lib/python3.7/site-packages/ipykernel_launcher.py:6: ClusterWarning: scipy.cluster: The symmetric non-negative hollow observation matrix looks suspiciously like an uncondensed distance matrix\n",
      "  \n"
     ]
    }
   ],
   "source": [
    "import numpy as np\n",
    "import matplotlib.pyplot as plt\n",
    "from scipy.cluster.hierarchy import linkage, fcluster, dendrogram\n",
    "\n",
    "dm = gower.gower_matrix(X)\n",
    "Zd = linkage(dm) "
   ]
  },
  {
   "cell_type": "markdown",
   "metadata": {},
   "source": [
    "Say we want total of 3 clusters:"
   ]
  },
  {
   "cell_type": "code",
   "execution_count": 22,
   "metadata": {},
   "outputs": [
    {
     "data": {
      "text/plain": [
       "array([2, 1, 3, 2, 2, 1, 1, 2], dtype=int32)"
      ]
     },
     "execution_count": 22,
     "metadata": {},
     "output_type": "execute_result"
    }
   ],
   "source": [
    "cld = fcluster(Zd, 3, criterion='maxclust')\n",
    "cld"
   ]
  },
  {
   "cell_type": "markdown",
   "metadata": {},
   "source": [
    "We can also inspect the dendrogram created from our distance matrix: "
   ]
  },
  {
   "cell_type": "code",
   "execution_count": 23,
   "metadata": {},
   "outputs": [
    {
     "data": {
      "text/plain": [
       "{'icoord': [[25.0, 25.0, 35.0, 35.0],\n",
       "  [15.0, 15.0, 30.0, 30.0],\n",
       "  [65.0, 65.0, 75.0, 75.0],\n",
       "  [55.0, 55.0, 70.0, 70.0],\n",
       "  [45.0, 45.0, 62.5, 62.5],\n",
       "  [22.5, 22.5, 53.75, 53.75],\n",
       "  [5.0, 5.0, 38.125, 38.125]],\n",
       " 'dcoord': [[0.0, 0.47178821309917673, 0.47178821309917673, 0.0],\n",
       "  [0.0, 0.5855417071567129, 0.5855417071567129, 0.47178821309917673],\n",
       "  [0.0, 0.47181830528906626, 0.47181830528906626, 0.0],\n",
       "  [0.0, 0.5880372297739299, 0.5880372297739299, 0.47181830528906626],\n",
       "  [0.0, 0.6198589998278438, 0.6198589998278438, 0.5880372297739299],\n",
       "  [0.5855417071567129,\n",
       "   0.6946257542922052,\n",
       "   0.6946257542922052,\n",
       "   0.6198589998278438],\n",
       "  [0.0, 0.9296863213402743, 0.9296863213402743, 0.6946257542922052]],\n",
       " 'ivl': ['2', '6', '1', '5', '7', '3', '0', '4'],\n",
       " 'leaves': [2, 6, 1, 5, 7, 3, 0, 4],\n",
       " 'color_list': ['g', 'g', 'r', 'r', 'r', 'b', 'b']}"
      ]
     },
     "execution_count": 23,
     "metadata": {},
     "output_type": "execute_result"
    },
    {
     "data": {
      "image/png": "[encoded data removed]",
      "text/plain": [
       "<Figure size 432x288 with 1 Axes>"
      ]
     },
     "metadata": {
      "needs_background": "light"
     },
     "output_type": "display_data"
    }
   ],
   "source": [
    "dendrogram(Zd) "
   ]
  },
  {
   "cell_type": "markdown",
   "metadata": {},
   "source": [
    "So that is for now, Please feel free to report bug and issues here: (https://github.com/wwwjk366/teamr/issues)"
   ]
  },
  {
   "cell_type": "code",
   "execution_count": null,
   "metadata": {},
   "outputs": [],
   "source": []
  }
 ],
 "metadata": {
  "kernelspec": {
   "display_name": "Python 3",
   "language": "python",
   "name": "python3"
  },
  "language_info": {
   "codemirror_mode": {
    "name": "ipython",
    "version": 3
   },
   "file_extension": ".py",
   "mimetype": "text/x-python",
   "name": "python",
   "nbconvert_exporter": "python",
   "pygments_lexer": "ipython3",
   "version": "3.7.3"
  }
 },
 "nbformat": 4,
 "nbformat_minor": 4
}
